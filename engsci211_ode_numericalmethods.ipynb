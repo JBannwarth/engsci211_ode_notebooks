{
 "cells": [
  {
   "cell_type": "markdown",
   "metadata": {},
   "source": [
    "# Numerical Methods"
   ]
  },
  {
   "cell_type": "markdown",
   "metadata": {},
   "source": [
    "## Euler Method\n",
    "\n",
    "The Euler method works by assuming the gradient of a solution, $y'=f(t_n,y_n)$ can be approximated by a linear gradient between $y_n$ and $y_{n+1}$, i.e.,\n",
    " \n",
    "$$ \\frac{y_{n+1}-y_n}{\\Delta t} = f(t_n,y_n)$$\n",
    "\n",
    "so $y_{n+1}$ can be expressed as,\n",
    "\n",
    "$$ y_{n+1} = y_n+\\Delta t \\; f(t_n,y_n)$$"
   ]
  },
  {
   "cell_type": "markdown",
   "metadata": {},
   "source": [
    "## Improved Euler Method\n",
    "The improved Euler method works by assuming the gradient of a solution, $y'=f(n,y_n)$ can be approximated by the average of gradients at $t_n, y_n$ and $t_{n+1}, y^*_{n+1}$. In order to estimate the gradient at $t_{n+1}, y^*_{n+1}$, it first estimates $y^*_{n+1}$ by an Euler step (also known as the predictor step),\n",
    "\n",
    "$$ y*_{n+1} = y_n+\\Delta t \\; f(t_n,y_n)$$\n",
    "\n",
    "and then take the corrector step,\n",
    "\n",
    "$$ y_{n+1} = y_n + \\Delta t \\; \\frac{f(t_n,y_n) + f^*(t_{n+1},y^*_{n+1})}{2}$$"
   ]
  },
  {
   "cell_type": "markdown",
   "metadata": {},
   "source": [
    "### Demo\n",
    "\n",
    "The visualisation below shows the Euler and Improved Euler iterations, performed on one of two different first-order ODEs.\n",
    "\n",
    "The ODE can be selected using **Derivative** and the numerical method can be selected using **Solver type**. The time step size used for each iteration can be selected using **Step Size** (note how decreasing the step size improves the numerical solution accuracy) and the number of iterations to evaluate can be selected using **Steps**.\n",
    "\n",
    "It is possible to show the analytic solution, for comparison with the numerical solution, by checking the **Show Solution** box.\n",
    "\n",
    "The gradient evaluations used in each method can be shown by checking the **Show Next Gradient Evaluations** box. For Euler, the blue line shows the $f_n=f(t_n,y_n)$ gradient. For Improved Euler, the additional red line shows the $f_{n+1}^{\\star}=f(t_{n+1},y_{n+1}^E)$ gradient i.e. the corrector gradient. Improved Euler then uses the average of $f_{n}$ and $f_{n+1}$ to take the next step."
   ]
  },
  {
   "cell_type": "code",
   "execution_count": 2,
   "metadata": {},
   "outputs": [
    {
     "data": {
      "application/vnd.jupyter.widget-view+json": {
       "model_id": "d14f363b1e7a43de8b3969f495d5b7da",
       "version_major": 2,
       "version_minor": 0
      },
      "text/plain": [
       "VBox(children=(VBox(children=(HBox(children=(FloatSlider(value=0.5, description='Step Size', max=1.0, min=0.1)…"
      ]
     },
     "metadata": {},
     "output_type": "display_data"
    }
   ],
   "source": [
    "from sourcecode_ode import NumericalMethods\n",
    "NumericalMethods()"
   ]
  },
  {
   "cell_type": "code",
   "execution_count": null,
   "metadata": {},
   "outputs": [],
   "source": []
  }
 ],
 "metadata": {
  "kernelspec": {
   "display_name": "Python 3",
   "language": "python",
   "name": "python3"
  },
  "language_info": {
   "codemirror_mode": {
    "name": "ipython",
    "version": 3
   },
   "file_extension": ".py",
   "mimetype": "text/x-python",
   "name": "python",
   "nbconvert_exporter": "python",
   "pygments_lexer": "ipython3",
   "version": "3.6.5"
  },
  "widgets": {
   "state": {
    "b4f932f52a0647cf842e39a19ca04c91": {
     "views": [
      {
       "cell_index": 1
      }
     ]
    }
   },
   "version": "1.2.0"
  }
 },
 "nbformat": 4,
 "nbformat_minor": 2
}
