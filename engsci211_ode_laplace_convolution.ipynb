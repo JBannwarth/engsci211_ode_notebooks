{
 "cells": [
  {
   "cell_type": "markdown",
   "metadata": {},
   "source": [
    "# Convolution\n",
    "\n",
    "Convolution (and integration) can be used to find the inverse of the product of two Laplace transforms, though generally speaking you should always try partial fractions first before attempting convolution!\n",
    "\n",
    "For example, to find the inverse of the following transform using convolution,\n",
    "\n",
    "$$\\mathcal{L}^{-1}\\left[\\frac{1}{s^2}\\frac{s}{s^2+1}\\right]$$\n",
    "\n",
    "the inverse of each term in the Laplace transform is,\n",
    "\n",
    "$$\\mathcal{L}^{-1}\\left[\\frac{1}{s^2}\\right] = t$$\n",
    "\n",
    "$$\\mathcal{L}^{-1}\\left[\\frac{s}{s^2+1}\\right] = \\sin(t)$$\n",
    "\n",
    "so the inverse is the convolution of the above two time functions,\n",
    "\n",
    "$$\\mathcal{L}^{-1}\\left[\\frac{1}{s^2}\\frac{s}{s^2+1}\\right] = t*\\sin(t)$$\n",
    "\n",
    "$$t*\\sin(t) = \\int_{0}^{t} (t-\\tau)\\sin(\\tau) d\\tau$$\n",
    "$$= t\\int_{0}^{t} \\sin(\\tau) d\\tau - \\int_{0}^{t}\\tau \\sin(\\tau) d\\tau$$\n",
    "$$= t \\left[-\\cos(\\tau)\\right]^t_0 + \\left[\\tau \\cos(\\tau)\\right]^t_0 - \\int_{0}^{t} \\cos(\\tau) d\\tau$$\n",
    "$$= t \\left[-\\cos(\\tau)\\right]^t_0 + \\left[\\tau \\cos(\\tau)\\right]^t_0 - \\left[\\sin(\\tau)\\right]^t_0$$\n",
    "$$= t - \\sin(t)$$\n",
    "\n",
    "Shift the slider below to see the convolution of the two functions (blue line). In this case we are shifting $t$ instead of $\\sin(t)$.\n"
   ]
  },
  {
   "cell_type": "code",
   "execution_count": 1,
   "metadata": {},
   "outputs": [
    {
     "data": {
      "application/vnd.jupyter.widget-view+json": {
       "model_id": "05a2ba52a86b458f81e6f6eb8d709455",
       "version_major": 2,
       "version_minor": 0
      },
      "text/plain": [
       "VBox(children=(HBox(children=(FloatSlider(value=-5.0, continuous_update=False, description='$t$', max=7.0, min…"
      ]
     },
     "metadata": {},
     "output_type": "display_data"
    }
   ],
   "source": [
    "from sourcecode_ode import Convolution\n",
    "Convolution()"
   ]
  },
  {
   "cell_type": "code",
   "execution_count": 2,
   "metadata": {},
   "outputs": [
    {
     "data": {
      "application/vnd.jupyter.widget-view+json": {
       "model_id": "19a0795c0df7431899f2ba11400fa0d5",
       "version_major": 2,
       "version_minor": 0
      },
      "text/plain": [
       "interactive(children=(IntSlider(value=4, description='a', max=8), Output()), _dom_classes=('widget-interact',)…"
      ]
     },
     "metadata": {},
     "output_type": "display_data"
    },
    {
     "data": {
      "text/plain": [
       "<function __main__.plotter(a)>"
      ]
     },
     "execution_count": 2,
     "metadata": {},
     "output_type": "execute_result"
    }
   ],
   "source": [
    "import ipywidgets as widgets\n",
    "from ipywidgets import interact\n",
    "interact(plotter, a =(0,8,1))"
   ]
  }
 ],
 "metadata": {
  "kernelspec": {
   "display_name": "Python 3",
   "language": "python",
   "name": "python3"
  },
  "language_info": {
   "codemirror_mode": {
    "name": "ipython",
    "version": 3
   },
   "file_extension": ".py",
   "mimetype": "text/x-python",
   "name": "python",
   "nbconvert_exporter": "python",
   "pygments_lexer": "ipython3",
   "version": "3.6.5"
  },
  "widgets": {
   "state": {
    "282546020b3b4eecb6c432e56800b5fd": {
     "views": [
      {
       "cell_index": 1
      }
     ]
    }
   },
   "version": "1.2.0"
  }
 },
 "nbformat": 4,
 "nbformat_minor": 2
}
