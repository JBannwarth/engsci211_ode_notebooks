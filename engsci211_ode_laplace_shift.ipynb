{
 "cells": [
  {
   "cell_type": "markdown",
   "metadata": {},
   "source": [
    "# Shift-in-s\n",
    "\n",
    "Shift-in-s and inversion can be applied in two ways (forwad and inverse).\n",
    "\n",
    "The first way (forward) is to transform a time function mutiplied by an exponential term, e.g.,\n",
    "\n",
    "$$y(t) = te^{3t}$$\n",
    "\n",
    "At first glance we do not know the transform of expression, but if we ignore the exponential term, we are left with t, and we know that the Laplace transform of t is,\n",
    "\n",
    "$$\\mathcal{L}\\left[t\\right] = \\frac{1}{s^2}$$\n",
    "\n",
    "from shift-in-s we also know that by multiplying t with $e^{3t}$ shifts the Laplace transform of $t$, i.e., $\\frac{1}{s^2}$ by 3. Therefore, \n",
    "\n",
    "$$\\mathcal{L}\\left[e^{at}y(t)\\right]=Y(s-a)$$, \n",
    "\n",
    "$$\\mathcal{L}\\left[e^{3t}t\\right] = \\frac{1}{(s-3)^2}$$\n",
    "\n",
    "The second way (inverse) is to identify the inverse of a shifted Laplace transform,\n",
    "\n",
    "$$\\mathcal{L}^{-1}\\left[\\frac{1}{(s-3)^2}\\right]$$\n",
    "\n",
    "First we need to workout the 'unshifted version' of the transform, which is $\\frac{1}{s^2}$, and we know the inverse of this expression is $t$. Therefore,\n",
    "\n",
    "$$\\mathcal{L}^{-1}\\left[\\frac{1}{(s-3)^2}\\right] = te^{3t}$$\n",
    "\n",
    "Shift the slider below to show what happens to the time function as its Laplace transform is shifted."
   ]
  },
  {
   "cell_type": "markdown",
   "metadata": {},
   "source": [
    "# Shift-in-t\n",
    "\n",
    "Similar to shift-in-s, shift-in-t could be also be applied in two ways, the forward way,\n",
    "\n",
    "$$\\mathcal{L}\\left[y(t-a)u(t-a)\\right] = Y(s)e^{-as}$$\n",
    "\n",
    "remember here $y(t-a)$ is multiplied by $u(t-a)$ because we want to make sure that the shifted function is 0 for $t<a$.\n",
    "\n",
    "For example,\n",
    "\n",
    "$$\\mathcal{L}\\left[e^{2t}\\right] = \\frac{1}{s-2}$$\n",
    "\n",
    "if $y(t)$ was shifted by $a$, then we would get the following,\n",
    "\n",
    "$$\\mathcal{L}\\left[e^{2(t-a)}u(t-a)\\right] = \\frac{e^{-as}}{s-2}$$\n",
    "\n",
    "This is the concept that we used in class to find the transform of shifted pulses. Though in the example covered in class we did not have to multiply a shifted unit step function to another shifted unit step function as they are by definition 0 for $t<a$.\n",
    "\n",
    "The inverse way involves finding the inverse of a Laplace transform that contains an exponential term, e.g., \n",
    "\n",
    "$$\\mathcal{L}^{-1}\\left[\\frac{e^{-as}}{s-2}\\right]$$\n",
    "\n",
    "here if we ignore the exponential term we get $\\frac{1}{s-2}$, the inverse of which is $e^{2t}$. Now due to the presence of the exponential term in the Laplace transform we need to shift $e^{2t}$ by $a$, therefore the shifted time function is,\n",
    "\n",
    "$$e^{2(t-a)}$$,\n",
    "\n",
    "but remember this is not a unit step or dirac delta function, so we need to multiply this expression by a unit step function shifted by the same amount,\n",
    "\n",
    "$$\\mathcal{L}^{-1}\\left[\\frac{e^{-as}}{s-2}\\right] = e^{2(t-a)}u(t-a)$$\n",
    "\n",
    "Use the visual demonstration below to see the relationship between a function in the time domain, $f(t)$, and it's Laplace transform, $F(s)$ in the Laplace parameter domain. You can apply a shift-in-s or shift-in-s using the sliders below to see how these shifts affect either the original function or its Laplace transform."
   ]
  },
  {
   "cell_type": "code",
   "execution_count": 1,
   "metadata": {},
   "outputs": [
    {
     "data": {
      "application/vnd.jupyter.widget-view+json": {
       "model_id": "6567979d4a2946479a17637dddc869fe",
       "version_major": 2,
       "version_minor": 0
      },
      "text/plain": [
       "VBox(children=(HBox(children=(VBox(children=(FloatRangeSlider(value=(-10.0, 10.0), continuous_update=False, de…"
      ]
     },
     "metadata": {},
     "output_type": "display_data"
    }
   ],
   "source": [
    "from sourcecode_ode import Laplace\n",
    "Laplace()\n",
    "\n",
    "# Depending on the function chosen for f(t):\n",
    "#     n is the order f the polynomial\n",
    "#     w (omega) is the angular velocity\n",
    "#     a is the exponential coefficient\n",
    "\n",
    "# Some things to note:\n",
    "#     omega/n/a slider changes when shifting t\n",
    "#     need shift in t slider to go back to 0 when using shift in s slider and vice versa\n",
    "#     use the t lim and s lim sliders to set the horizontal plotting limits\n",
    "#     use the F(s) lim to set the vertical plotting limits for right-hand plot only"
   ]
  },
  {
   "cell_type": "code",
   "execution_count": null,
   "metadata": {},
   "outputs": [],
   "source": []
  }
 ],
 "metadata": {
  "kernelspec": {
   "display_name": "Python 3",
   "language": "python",
   "name": "python3"
  },
  "language_info": {
   "codemirror_mode": {
    "name": "ipython",
    "version": 3
   },
   "file_extension": ".py",
   "mimetype": "text/x-python",
   "name": "python",
   "nbconvert_exporter": "python",
   "pygments_lexer": "ipython3",
   "version": "3.6.5"
  },
  "widgets": {
   "state": {
    "3e95a49c1e7947d9a7027b2a8b4e0398": {
     "views": [
      {
       "cell_index": 1
      }
     ]
    }
   },
   "version": "1.2.0"
  }
 },
 "nbformat": 4,
 "nbformat_minor": 2
}
