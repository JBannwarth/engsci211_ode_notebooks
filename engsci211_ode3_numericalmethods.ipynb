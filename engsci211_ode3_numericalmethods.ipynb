{
 "cells": [
  {
   "cell_type": "markdown",
   "metadata": {},
   "source": [
    "# Comparison of Numerical Methods\n",
    "\n",
    "The visualisation below shows the Euler and Improved Euler iterations, performed on one of two different first-order ODEs.\n",
    "\n",
    "The ODE can be selected using **Derivative** and the numerical method can be selected using **Solver type**. The time step size used for each iteration can be selected using **Step Size** (note how decreasing the step size improves the numerical solution accuracy) and the number of iterations to evaluate can be selected using **Steps**.\n",
    "\n",
    "It is possible to show the analytic solution, for comparison with the numerical solution, by checking the **Show Solution** box.\n",
    "\n",
    "The gradient evaluations used in each method can be shown by checking the **Show Next Gradient Evaluations** box. For Euler, the blue line shows the $f_n=f(t_n,y_n)$ gradient. For Improved Euler, the additional red line shows the $f_{n+1}^{\\star}=f(t_{n+1},y_{n+1}^E)$ gradient.\n",
    "\n"
   ]
  },
  {
   "cell_type": "code",
   "execution_count": null,
   "metadata": {},
   "outputs": [],
   "source": [
    "# import packages and setup plotting\n",
    "%matplotlib inline\n",
    "from sourcecode_ode import NumericalMethods\n",
    "\n",
    "# Run the visual demo\n",
    "NumericalMethods()"
   ]
  }
 ],
 "metadata": {
  "kernelspec": {
   "display_name": "Python 3",
   "language": "python",
   "name": "python3"
  },
  "language_info": {
   "codemirror_mode": {
    "name": "ipython",
    "version": 3
   },
   "file_extension": ".py",
   "mimetype": "text/x-python",
   "name": "python",
   "nbconvert_exporter": "python",
   "pygments_lexer": "ipython3",
   "version": "3.6.5"
  },
  "widgets": {
   "state": {
    "b4f932f52a0647cf842e39a19ca04c91": {
     "views": [
      {
       "cell_index": 1
      }
     ]
    }
   },
   "version": "1.2.0"
  }
 },
 "nbformat": 4,
 "nbformat_minor": 2
}
