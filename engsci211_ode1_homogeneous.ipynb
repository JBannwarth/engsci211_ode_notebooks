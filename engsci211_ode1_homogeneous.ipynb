{
 "cells": [
  {
   "cell_type": "markdown",
   "metadata": {},
   "source": [
    "# Damping\n",
    "A car suspension with body mass ($m$), damping coefficient ($c$), and spring constant ($k$) can be modelled using the following equation,\n",
    " \n",
    "$$ m\\frac{d^2 y}{dt^2} + c\\frac{dy}{dt} + ky = 0$$\n",
    "\n",
    "$$my''+cy'+ky=0$$\n",
    "\n",
    "the characteristic equation can be written as,\n",
    "\n",
    "$$m\\lambda^2 + c\\lambda + k = 0$$\n",
    "\n",
    "$$\\lambda = \\frac{-c + \\sqrt{c^2-4mk}}{2m}$$\n",
    "\n",
    "Depending on the value of the determinant, the system exhibits different behaviours.\n",
    "\n",
    "\n"
   ]
  },
  {
   "cell_type": "code",
   "execution_count": null,
   "metadata": {},
   "outputs": [],
   "source": [
    "from matplotlib import pyplot as plt\n",
    "import numpy as np\n",
    "import time\n",
    "import ipywidgets as widgets\n",
    "from scipy import integrate\n",
    "from ipywidgets import interact, fixed, interactive_output, HBox, Button, VBox, Output, IntSlider, Checkbox, FloatSlider, FloatLogSlider, Dropdown\n",
    "\n"
   ]
  },
  {
   "cell_type": "markdown",
   "metadata": {},
   "source": [
    "How do the coefficients ($c, m, k$) influence the oscillation?\n",
    "\n",
    "Run the cell below and change the sliders to alter and damping coefficients ($c,m,k$), what happens to the behaviour of the suspension. What's the expression that relates $c, m, k$ to critical damping?"
   ]
  },
  {
   "cell_type": "code",
   "execution_count": null,
   "metadata": {},
   "outputs": [],
   "source": [
    "# define ODE\n",
    "def solvr(Y, t, m, c, k):\n",
    "    return [Y[1], -c*Y[1]-k*Y[0]/m]\n",
    "\n",
    "# define plot function\n",
    "def plotter(c,m,k):\n",
    "    f,ax = plt.subplots(1,1, figsize=(14,8))\n",
    "    init = [1, 0];\n",
    "\n",
    "    #m = 1;\n",
    "    #k = 1;\n",
    "    \n",
    "    t = np.arange(0, 15.0, 0.01)\n",
    "    y = integrate.odeint(solvr, init , t, args=(m, c, k))\n",
    "    \n",
    "    ax.plot(t,y[:,0], color='b')\n",
    "    \n",
    "    plt.yticks(np.arange(-1.2, 1.3, 0.4))\n",
    "    plt.xlabel('t')\n",
    "    plt.ylabel('y')\n",
    "\n",
    "    if c*c > 4*m*k:\n",
    "        plt.title('y vs t: over-damping')\n",
    "    elif c*c == 4*m*k:\n",
    "        plt.title('y vs t: critical-damping')\n",
    "    elif c == 0:\n",
    "        plt.title('y vs t: no-damping')\n",
    "    else: \n",
    "        plt.title('y vs t: under-damping')\n",
    "        \n",
    "     \n",
    "    #ax.plot([t_i],y[1,0],marker='o', markersize=3, color=\"red\")\n",
    "    plt.show() \n",
    "\n",
    "\n",
    "interact(plotter,c= widgets.FloatSlider(min=0,max=3,step=0.1,value=2), m= (0,3,0.1), k=(0,3,0.1))\n"
   ]
  },
  {
   "cell_type": "markdown",
   "metadata": {},
   "source": [
    "Assuming that $c$=0, what would happen to the frequency of the ocsillation if: \n",
    "    1. m is doubled? and/or\n",
    "    2. k is doubled?\n",
    "Run the cell below and tick the boxes below to double the damping coefficients.\n"
   ]
  },
  {
   "cell_type": "code",
   "execution_count": null,
   "metadata": {
    "scrolled": false
   },
   "outputs": [],
   "source": [
    "# define ODE\n",
    "def solvr(Y, t, m, c, k):\n",
    "    return [Y[1], -c*Y[1]-k*Y[0]/m]\n",
    "\n",
    "# define plot function\n",
    "def plotter(m_double,k_double):\n",
    "    f,ax = plt.subplots(1,1, figsize=(14,8))\n",
    "    init = [1, 0];\n",
    "    \n",
    "    c = 0;\n",
    "    m = 1;\n",
    "    k = 1;\n",
    "    \n",
    "    if m_double is True:\n",
    "        m = 2 * m\n",
    "    \n",
    "    if k_double is True:\n",
    "        k = 2 * k\n",
    "    \n",
    "    t = np.arange(0, 15.0, 0.01)\n",
    "    y = integrate.odeint(solvr, init , t, args=(m, c, k))\n",
    "    \n",
    "    ax.plot(t,y[:,0], color='b')\n",
    "    \n",
    "    plt.yticks(np.arange(-1.2, 1.3, 0.4))\n",
    "    plt.xlabel('t')\n",
    "    plt.ylabel('y')\n",
    "\n",
    "    if c*c > 4*m*k:\n",
    "        plt.title('y vs t: over-damping')\n",
    "    elif c*c == 4*m*k:\n",
    "        plt.title('y vs t: critical-damping')\n",
    "    elif c == 0:\n",
    "        plt.title('y vs t: no-damping')\n",
    "    else: \n",
    "        plt.title('y vs t: under-damping')\n",
    "        \n",
    "     \n",
    "    #ax.plot([t_i],y[1,0],marker='o', markersize=3, color=\"red\")\n",
    "    plt.show() \n",
    "    \n",
    "#m = interact.Checkbox(value = True, description = 'Double m')\n",
    "#k = interact.Checkbox(value = False, description = 'Double k')\n",
    "\n",
    "\n",
    "\n",
    "interact(plotter, m_double = True, k_double = False)\n",
    "\n"
   ]
  },
  {
   "cell_type": "code",
   "execution_count": null,
   "metadata": {
    "scrolled": true
   },
   "outputs": [],
   "source": [
    "#Run the cell below and move the sliders to change the mass and damping coefficients. \n",
    "#If you keep one coefficient costant, what happens when you change the other?"
   ]
  },
  {
   "cell_type": "code",
   "execution_count": null,
   "metadata": {},
   "outputs": [],
   "source": [
    "# import packages\n",
    "from matplotlib import pyplot as plt\n",
    "import numpy as np\n",
    "import time\n",
    "from scipy import integrate\n",
    "from ipywidgets import interact\n",
    "\n",
    "# define ODE\n",
    "def solvr(Y, t, m, c, k):\n",
    "    return [Y[1], -c*Y[1]-k*Y[0]/m]\n",
    "\n",
    "# define plot function\n",
    "def plotter(m,k):\n",
    "    f,ax = plt.subplots(1,1, figsize=(14,8))\n",
    "    init = [1, 0];\n",
    "    \n",
    "    \n",
    "    c=0;\n",
    "    \n",
    "   \n",
    "    t = np.arange(0, 15.0, 0.01)\n",
    "    y = integrate.odeint(solvr, init , t, args=(m, c, k))\n",
    "    \n",
    "    ax.plot(t,y[:,0], color='b')\n",
    "    \n",
    "    plt.yticks(np.arange(-1.2, 1.3, 0.4))\n",
    "    plt.xlabel('t')\n",
    "    plt.ylabel('y')\n",
    "\n",
    "    if c*c > 4*m*k:\n",
    "        plt.title('y vs t: over-damping')\n",
    "    elif c*c == 4*m*k:\n",
    "        plt.title('y vs t: critical-damping')\n",
    "    elif c == 0:\n",
    "        plt.title('y vs t: no-damping')\n",
    "    else: \n",
    "        plt.title('y vs t: under-damping')\n",
    "        \n",
    "     \n",
    "    #ax.plot([t_i],y[1,0],marker='o', markersize=3, color=\"red\")\n",
    "    plt.show() \n",
    "    \n",
    "#m = interact.Checkbox(value = True, description = 'Double m')\n",
    "#k = interact.Checkbox(value = False, description = 'Double k')\n",
    "\n",
    "\n",
    "\n",
    "interact(plotter, m= widgets.IntSlider(min=2,max=6,step=1,value=2), k= widgets.IntSlider(min=2,max=6,step=1,value=2))\n"
   ]
  },
  {
   "cell_type": "markdown",
   "metadata": {},
   "source": [
    "Determine the frequency of the ocsillation of a pendulum with length, $L$.\n",
    "It can be modelled as \n",
    "$$ \\theta'' + \\omega^2 \\sin\\theta = 0,  \\omega^2 = g/l$$ \n"
   ]
  },
  {
   "cell_type": "code",
   "execution_count": null,
   "metadata": {},
   "outputs": [],
   "source": [
    "from IPython.display import Image\n",
    "Image(filename='engsci211_ode_suspension_pendulum.png', width = 400, height = 400)"
   ]
  },
  {
   "cell_type": "markdown",
   "metadata": {},
   "source": [
    "What are the assumptions for this model?\n",
    "What happens to $\\sin\\theta$ if $\\sin\\theta$ is small?\n",
    "\n",
    "Run the cell below for the hint. ;)\n",
    "\n",
    "Can you  be able to solve the ODE if $\\theta$ is small?"
   ]
  },
  {
   "cell_type": "code",
   "execution_count": null,
   "metadata": {},
   "outputs": [],
   "source": [
    "# plot sin\n",
    "f,ax = plt.subplots(1,1, figsize=(10,10))\n",
    "   \n",
    "theta = np.arange(0, 0.8, 0.005)\n",
    "y = np.sin(theta)\n",
    "    \n",
    "ax.plot(theta,y, color='b')\n",
    "    \n",
    "plt.yticks(np.arange(0, 0.9, 0.1))\n",
    "plt.xlabel('theta')\n",
    "plt.ylabel('sin(theta)')\n",
    "    \n",
    "plt.show() "
   ]
  },
  {
   "cell_type": "code",
   "execution_count": null,
   "metadata": {
    "scrolled": false
   },
   "outputs": [],
   "source": [
    "# import packages\n",
    "from matplotlib import pyplot as plt\n",
    "import numpy as np\n",
    "import time\n",
    "from scipy import integrate\n",
    "from ipywidgets import interact, fixed, interactive_output, HBox, Button, VBox, Output, IntSlider, Checkbox, FloatSlider, FloatLogSlider, Dropdown\n",
    "\n",
    "import ipykernel\n",
    "import jupyter\n",
    "\n",
    "\n",
    "# define ODE\n",
    "def solvr(theta, t, omega, k):\n",
    "    return [theta[1], - omega * omega * theta[0] + k]\n",
    "\n",
    "# define plot function\n",
    "def plotter(omega):\n",
    "    f,ax = plt.subplots(1,1, figsize=(14,8))\n",
    "    init = [1, 0];\n",
    "    \n",
    "    k = 0;\n",
    "    \n",
    "    t = np.arange(0, 15.0, 0.01)\n",
    "    theta = integrate.odeint(solvr, init , t, args= (omega,k))\n",
    "    \n",
    "    ax.plot(t,theta[:,0], color='b')\n",
    "    \n",
    "    plt.yticks(np.arange(-1.2, 1.3, 0.4))\n",
    "    plt.xlabel('t')\n",
    "    plt.ylabel('theta')\n",
    "\n",
    "    plt.show() \n",
    "\n",
    "interact(plotter, omega=(0,3,0.1))\n",
    "\n",
    "\n"
   ]
  },
  {
   "cell_type": "code",
   "execution_count": null,
   "metadata": {},
   "outputs": [],
   "source": []
  }
 ],
 "metadata": {
  "kernelspec": {
   "display_name": "Python 3",
   "language": "python",
   "name": "python3"
  },
  "language_info": {
   "codemirror_mode": {
    "name": "ipython",
    "version": 3
   },
   "file_extension": ".py",
   "mimetype": "text/x-python",
   "name": "python",
   "nbconvert_exporter": "python",
   "pygments_lexer": "ipython3",
   "version": "3.6.5"
  },
  "widgets": {
   "state": {
    "1a835289261f444d904cda95c8e72a34": {
     "views": [
      {
       "cell_index": 1
      }
     ]
    }
   },
   "version": "1.2.0"
  }
 },
 "nbformat": 4,
 "nbformat_minor": 2
}
