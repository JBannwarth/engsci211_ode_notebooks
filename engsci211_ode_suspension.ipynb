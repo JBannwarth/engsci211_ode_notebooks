{
 "cells": [
  {
   "cell_type": "markdown",
   "metadata": {},
   "source": [
    "# Car Suspension\n",
    "A car suspension with body mass ($m$), damping coefficient ($c$), and spring constant ($k$) can be modelled using the following equation,\n",
    " \n",
    "$$ m\\frac{d^2 y}{dt^2} + c\\frac{dy}{dt} + ky = 0$$\n",
    "\n",
    "$$my''+cy'+ky=0$$\n",
    "\n",
    "the characteristic equation can be written as,\n",
    "\n",
    "$$m\\lambda^2 + c\\lambda + k = 0$$\n",
    "\n",
    "$$\\lambda = \\frac{-c + \\sqrt{c^2-4mk}}{2m}$$\n",
    "\n",
    "Depending on the value of the determinant, the system exhibits different behaviours.\n",
    "\n",
    "How do the coefficients ($c, m, k$) influence the oscillation?\n",
    "\n",
    "Run the cell below and change the sliders to alter and damping coefficients ($c,m,k$), what happens to the behaviour of the suspension. What's the expression that relates $c, m, k$ to critical damping?\n",
    "\n",
    "\n"
   ]
  },
  {
   "cell_type": "code",
   "execution_count": 1,
   "metadata": {},
   "outputs": [
    {
     "data": {
      "application/vnd.jupyter.widget-view+json": {
       "model_id": "8df56014dbaa4e88be3141b22189d728",
       "version_major": 2,
       "version_minor": 0
      },
      "text/plain": [
       "interactive(children=(FloatSlider(value=2.0, description='c', max=3.0), FloatSlider(value=1.0, description='m'…"
      ]
     },
     "metadata": {},
     "output_type": "display_data"
    },
    {
     "data": {
      "text/plain": [
       "<function sourcecode_ode.plotter1(c, m, k)>"
      ]
     },
     "execution_count": 1,
     "metadata": {},
     "output_type": "execute_result"
    }
   ],
   "source": [
    "import ipywidgets as widgets\n",
    "from ipywidgets import interact\n",
    "from sourcecode_ode import plotter1\n",
    "interact(plotter1, c=widgets.FloatSlider(min=0, max=3, step=0.1, value=2), m=(0, 3, 0.1), k=(0, 3, 0.1))"
   ]
  },
  {
   "cell_type": "markdown",
   "metadata": {},
   "source": [
    "Assuming that $c$=0, what would happen to the frequency of the ocsillation if: \n",
    "    1. m is doubled? and/or\n",
    "    2. k is doubled?\n",
    "Run the cell below and tick the boxes below to double the damping coefficients.\n"
   ]
  },
  {
   "cell_type": "code",
   "execution_count": 2,
   "metadata": {
    "scrolled": false
   },
   "outputs": [
    {
     "data": {
      "application/vnd.jupyter.widget-view+json": {
       "model_id": "6ae0357d2475414ba596a95c52a48012",
       "version_major": 2,
       "version_minor": 0
      },
      "text/plain": [
       "interactive(children=(Checkbox(value=True, description='m_double'), Checkbox(value=False, description='k_doubl…"
      ]
     },
     "metadata": {},
     "output_type": "display_data"
    },
    {
     "data": {
      "text/plain": [
       "<function sourcecode_ode.plotter2(m_double, k_double)>"
      ]
     },
     "execution_count": 2,
     "metadata": {},
     "output_type": "execute_result"
    }
   ],
   "source": [
    "import ipywidgets as widgets\n",
    "from ipywidgets import interact\n",
    "from sourcecode_ode import plotter2\n",
    "interact(plotter2, m_double = True, k_double = False)"
   ]
  },
  {
   "cell_type": "markdown",
   "metadata": {
    "scrolled": true
   },
   "source": [
    "Run the cell below and move the sliders to change the mass and damping coefficients.\n",
    "If you keep one coefficient costant, what happens when you change the other?\n",
    "\n"
   ]
  },
  {
   "cell_type": "code",
   "execution_count": 3,
   "metadata": {},
   "outputs": [
    {
     "data": {
      "application/vnd.jupyter.widget-view+json": {
       "model_id": "888ebcb5d1c94ba69e532d84e4865b3d",
       "version_major": 2,
       "version_minor": 0
      },
      "text/plain": [
       "interactive(children=(IntSlider(value=2, description='m', max=6, min=2), IntSlider(value=2, description='k', m…"
      ]
     },
     "metadata": {},
     "output_type": "display_data"
    },
    {
     "data": {
      "text/plain": [
       "<function sourcecode_ode.plotter3(m, k)>"
      ]
     },
     "execution_count": 3,
     "metadata": {},
     "output_type": "execute_result"
    }
   ],
   "source": [
    "import ipywidgets as widgets\n",
    "from ipywidgets import interact\n",
    "from sourcecode_ode import plotter3\n",
    "interact(plotter3, m= widgets.IntSlider(min=2,max=6,step=1,value=2), k= widgets.IntSlider(min=2,max=6,step=1,value=2))"
   ]
  }
 ],
 "metadata": {
  "kernelspec": {
   "display_name": "Python 3",
   "language": "python",
   "name": "python3"
  },
  "language_info": {
   "codemirror_mode": {
    "name": "ipython",
    "version": 3
   },
   "file_extension": ".py",
   "mimetype": "text/x-python",
   "name": "python",
   "nbconvert_exporter": "python",
   "pygments_lexer": "ipython3",
   "version": "3.6.5"
  },
  "widgets": {
   "state": {
    "1a835289261f444d904cda95c8e72a34": {
     "views": [
      {
       "cell_index": 1
      }
     ]
    }
   },
   "version": "1.2.0"
  }
 },
 "nbformat": 4,
 "nbformat_minor": 2
}
